{
 "cells": [
  {
   "cell_type": "code",
   "execution_count": 1,
   "id": "6c243ec4-151e-4abd-afcd-9f711e7d1d4e",
   "metadata": {},
   "outputs": [
    {
     "ename": "NameError",
     "evalue": "name 'fremvisning' is not defined",
     "output_type": "error",
     "traceback": [
      "\u001b[0;31m---------------------------------------------------------------------------\u001b[0m",
      "\u001b[0;31mNameError\u001b[0m                                 Traceback (most recent call last)",
      "Cell \u001b[0;32mIn[1], line 1\u001b[0m\n\u001b[0;32m----> 1\u001b[0m fremvisning\n",
      "\u001b[0;31mNameError\u001b[0m: name 'fremvisning' is not defined"
     ]
    }
   ],
   "source": [
    "fremvisning"
   ]
  },
  {
   "cell_type": "code",
   "execution_count": null,
   "id": "b8903e95-2411-414d-85a2-25686f16aaab",
   "metadata": {},
   "outputs": [],
   "source": []
  }
 ],
 "metadata": {
  "kernelspec": {
   "display_name": "Python 3 (Spyder)",
   "language": "python3",
   "name": "python3"
  },
  "language_info": {
   "codemirror_mode": {
    "name": "ipython",
    "version": 3
   },
   "file_extension": ".py",
   "mimetype": "text/x-python",
   "name": "python",
   "nbconvert_exporter": "python",
   "pygments_lexer": "ipython3",
   "version": "3.11.13"
  }
 },
 "nbformat": 4,
 "nbformat_minor": 5
}
