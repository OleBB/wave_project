{
 "cells": [
  {
   "cell_type": "code",
   "execution_count": 2,
   "id": "ddfae8c0-cf4a-4706-8f4d-9619882c12fe",
   "metadata": {},
   "outputs": [],
   "source": [
    "import numpy as np\n",
    "import sympy as sp\n",
    "from sympy import latex\n",
    "from IPython.display import display, Math, Markdown"
   ]
  },
  {
   "cell_type": "markdown",
   "id": "fab80579-bdc5-4204-badc-c6a6b663670b",
   "metadata": {},
   "source": [
    "- [ ] \n",
    "YanXu har Ct = a3,4/a2 = 0.8 (Ct er transmissjonskoeffisenten, som betyr at 80% av energien går i gjennom.)\n",
    "\n",
    "... hvis du sier at bølgen avtar pga tanken... så kan vi dele på 0.008 ... altså 0.008/0.8 ‎ = 0.01. \n",
    "\n",
    "Måle samme om igjen, mer nøyaktig. bruke millimeterskala. ta feks glidende snitt av 10 bølgehøyder. \n",
    "\n",
    "[ ] Lese YanXu sin rapport. \n",
    "[ ] sjekke nøye - er bølgeamplituden i P2 samme med og uten vind?"
   ]
  },
  {
   "cell_type": "markdown",
   "id": "8e26a205-1711-4c44-9388-f7a7518cb984",
   "metadata": {},
   "source": [
    "\n",
    "---\n",
    "                     \n"
   ]
  },
  {
   "cell_type": "markdown",
   "id": "80688367-39a1-4ea8-a53e-d452a5128a7a",
   "metadata": {},
   "source": [
    "## Bølgetall\n",
    "$K = \\frac{\\omega^2}{g} = \\frac{(f*2*\\pi)^2}{g}$"
   ]
  },
  {
   "cell_type": "code",
   "execution_count": 14,
   "id": "95fc3757-213d-475a-9467-7eb503683608",
   "metadata": {},
   "outputs": [
    {
     "name": "stdout",
     "output_type": "stream",
     "text": [
      "Det dimensjonsløse bølgetallet. KL = 17.70\n"
     ]
    },
    {
     "data": {
      "text/latex": [
       "$\\displaystyle \\text{Det dimensjonsløse bølgetallet, KL = } 17.7$"
      ],
      "text/plain": [
       "<IPython.core.display.Math object>"
      ]
     },
     "metadata": {},
     "output_type": "display_data"
    },
    {
     "data": {
      "text/latex": [
       "$\\displaystyle \\text{Det dimensjonsløse bølgetallet, KL = } 17.7$"
      ],
      "text/plain": [
       "<IPython.core.display.Math object>"
      ]
     },
     "metadata": {},
     "output_type": "display_data"
    },
    {
     "data": {
      "text/latex": [
       "$\\displaystyle \\text{bølgelengden, } \\lambda = 0.9229$"
      ],
      "text/plain": [
       "<IPython.core.display.Math object>"
      ]
     },
     "metadata": {},
     "output_type": "display_data"
    },
    {
     "data": {
      "text/latex": [
       "$\\displaystyle \\text{bølgelengden, } \\lambda = 0.9229$"
      ],
      "text/plain": [
       "<IPython.core.display.Math object>"
      ]
     },
     "metadata": {},
     "output_type": "display_data"
    }
   ],
   "source": [
    "frequency = 1.3  # in Hz\n",
    "length_scale = 2.6  # in meters\n",
    "g = 9.8  # acceleration due to gravity in m/s^2\n",
    "\n",
    "K = (2 * np.pi * frequency)**2 / g\n",
    "L = 2*np.pi/K\n",
    "KLe = K * length_scale\n",
    "\n",
    "L_sym = sp.sympify(L)\n",
    "K_sym = sp.sympify(K)\n",
    "KLe_sym = sp.sympify(KLe)\n",
    "\n",
    "print(\"Det dimensjonsløse bølgetallet. KL =\", KLe_sym.evalf(4))  # Evaluate KLe with 4 numbers\n",
    "display(Math(fr'\\text{{Det dimensjonsløse bølgetallet, KL = }} {latex(KLe_sym.evalf(4))}'))\n",
    "display(Math(r'\\text{Det dimensjonsløse bølgetallet, KL = } ' + latex(KLe_sym.evalf(4))))\n",
    "\n",
    "display(Math(fr'\\text{{bølgelengden, }} \\lambda = {latex(L_sym.evalf(4))}'))\n",
    "display(Math(r'\\text{bølgelengden, } \\lambda = ' + latex(L_sym.evalf(4))))\n",
    "\n"
   ]
  },
  {
   "cell_type": "markdown",
   "id": "47e7e5f9-2002-401d-b3df-2dbe19ac7af1",
   "metadata": {},
   "source": [
    "- [x]  spm til John: KL må det være lengden mellom probene eller lengden på geometrien?\n",
    "\n",
    "svar: sjekk utstrekt og sammenpresset. \n"
   ]
  },
  {
   "cell_type": "markdown",
   "id": "43172d16-7149-4014-a458-f98cf17e0f9f",
   "metadata": {},
   "source": [
    "| Condition                          | Probe 2 (mm) | Probe 3 (mm) | P3/P2 Ratio (Transmission) |\n",
    "| ---------------------------------- | ------------ | ------------ | -------------------------- |\n",
    "| **No panel (panelbeach)**          |              |              |                            |\n",
    "| Nowind                             | 6.87         | 6.97         | **1.02**                   |\n",
    "| Lowestwind                         | 6.65         | 6.97         | **1.05**                   |\n",
    "| Lowestwind                         | 6.56         | 6.58         | **1.00**                   |\n",
    "| Fullwind                           | 6.90         | 6.91         | **1.00**                   |\n",
    "| **With panel (fullpanel, 2.62 m)** |              |              |                            |\n",
    "| Nowind                             | 7.02         | 4.00         | **0.57**                   |\n",
    "| Lowestwind                         | 7.07         | 4.29         | **0.61**                   |\n",
    "| Fullwind                           | 6.90         | 5.02         | **0.73**                   |\n"
   ]
  },
  {
   "cell_type": "markdown",
   "id": "4c4a2db1-f544-4805-88b4-56e29afcc9f9",
   "metadata": {},
   "source": [
    "husk at du gav nytt navn til filene."
   ]
  },
  {
   "cell_type": "code",
   "execution_count": null,
   "id": "b4cfcd38-10fb-4345-9e9d-09a4e4fffe3f",
   "metadata": {
    "jupyter": {
     "source_hidden": true
    },
    "scrolled": true
   },
   "outputs": [],
   "source": [
    "from IPython.display import Image\n",
    "\n",
    "# Display the image using a relative path\n",
    "Image(filename='waveresults/probe2_file0_amplitude.png')\n"
   ]
  },
  {
   "cell_type": "code",
   "execution_count": null,
   "id": "0d1fe83a-c711-4c66-b4f1-7eddcdc38227",
   "metadata": {
    "jupyter": {
     "source_hidden": true
    }
   },
   "outputs": [],
   "source": [
    "Image(filename='waveresults/probe3_file0_amplitude.png')"
   ]
  },
  {
   "cell_type": "markdown",
   "id": "326876c7-55b6-48e8-9728-a33e7d876166",
   "metadata": {},
   "source": [
    "## Videre utforskning\n"
   ]
  },
  {
   "cell_type": "markdown",
   "id": "940651a3-5a3c-4906-8e93-6ced5cf5dcaa",
   "metadata": {},
   "source": [
    "forklaring: jon og yan hadde problemer med tanken på bølgelengde under 0.5 m. Med en lang geometri får man sett på de bølgene som relativt er kortere. \n"
   ]
  },
  {
   "cell_type": "markdown",
   "id": "f7d39bb6-f2a4-441e-99ce-a17a4f3be052",
   "metadata": {},
   "source": [
    "- [ ] finne ut hva vindhastigheten er. finne ut av trykkmålern.\n"
   ]
  },
  {
   "cell_type": "code",
   "execution_count": null,
   "id": "aed5c5c3-e4ae-426c-97cb-ab0ca3ab7028",
   "metadata": {},
   "outputs": [],
   "source": [
    "import matplotlib.pyplot as plt\n",
    "import pandas as pd\n",
    "\n",
    "# Data\n",
    "data = {\n",
    "    'Panel': ['No panel']*4 + ['With panel']*3,\n",
    "    'Wind': ['Nowind', 'Lowestwind', 'Lowestwind', 'Fullwind', 'Nowind', 'Lowestwind', 'Fullwind'],\n",
    "    'Probe2': [6.87, 6.65, 6.56, 6.90, 7.02, 7.07, 6.90],\n",
    "    'Probe3': [6.97, 6.97, 6.58, 6.91, 4.00, 4.29, 5.02],\n",
    "}\n",
    "\n",
    "df = pd.DataFrame(data)\n",
    "\n",
    "# Combine duplicate wind entries for \"No panel\" by averaging if needed\n",
    "df_grouped = df.groupby(['Panel', 'Wind']).mean().reset_index()\n",
    "\n",
    "# Compute transmission and attenuation\n",
    "df_grouped['Transmission'] = df_grouped['Probe3'] / df_grouped['Probe2']\n",
    "df_grouped['Attenuation'] = 1 - df_grouped['Transmission']\n",
    "\n",
    "wind_conditions = ['Nowind', 'Lowestwind', 'Fullwind']\n",
    "\n",
    "# --- Plot 1: Transmission ---\n",
    "plt.figure(figsize=(8,4))\n",
    "for panel in df_grouped['Panel'].unique():\n",
    "    subset = df_grouped[df_grouped['Panel'] == panel]\n",
    "    plt.plot(subset['Wind'], subset['Transmission'], 'o-', label=panel)\n",
    "plt.ylabel('Transmission (P3/P2)')\n",
    "plt.title('Transmission vs Wind Condition')\n",
    "plt.legend()\n",
    "plt.tight_layout()\n",
    "plt.show()"
   ]
  },
  {
   "cell_type": "markdown",
   "id": "5c9d166b-6e58-4299-aecd-950b598e31bf",
   "metadata": {},
   "source": [
    "Plot shows how transmission stays ~1.0 for **no panel**, while for the **panel case**, transmission rises with wind (0.57 → 0.73)."
   ]
  },
  {
   "cell_type": "code",
   "execution_count": null,
   "id": "206ffeb3-6db0-4828-b3b0-764ddf25c4e9",
   "metadata": {},
   "outputs": [],
   "source": [
    "# --- Plot 2: Probe Amplitudes ---\n",
    "plt.figure(figsize=(8,4))\n",
    "for panel in df_grouped['Panel'].unique():\n",
    "    subset = df_grouped[df_grouped['Panel'] == panel]\n",
    "    plt.plot(subset['Wind'], subset['Probe2'], 's--', label=f'{panel} - Probe2')\n",
    "    plt.plot(subset['Wind'], subset['Probe3'], 'd--', label=f'{panel} - Probe3')\n",
    "plt.ylabel('Amplitude (mm)')\n",
    "plt.title('Probe Amplitudes vs Wind Condition')\n",
    "plt.legend()\n",
    "plt.tight_layout()\n",
    "plt.show()"
   ]
  },
  {
   "cell_type": "markdown",
   "id": "edfedeb9-2c3a-431e-a425-df701946017c",
   "metadata": {},
   "source": [
    "**Probe 2 stays nearly constant** regardless of wind or panel, while **Probe 3 rises significantly with wind when the panel is present**."
   ]
  },
  {
   "cell_type": "code",
   "execution_count": null,
   "id": "26bdcbb1-6938-4d9d-8634-f236393a5998",
   "metadata": {},
   "outputs": [],
   "source": [
    "\n",
    "# --- Plot 3: Attenuation ---\n",
    "plt.figure(figsize=(8,4))\n",
    "for panel in df_grouped['Panel'].unique():\n",
    "    subset = df_grouped[df_grouped['Panel'] == panel]\n",
    "    plt.plot(subset['Wind'], subset['Attenuation'], 'x-', label=panel)\n",
    "plt.ylabel('Attenuation (1 - P3/P2)')\n",
    "plt.title('Percentage Attenuation vs Wind Condition')\n",
    "plt.legend()\n",
    "plt.tight_layout()\n",
    "plt.show()"
   ]
  },
  {
   "cell_type": "markdown",
   "id": "09bac935-fb3e-430e-a9bd-36ad980d1ea3",
   "metadata": {},
   "source": [
    "- **No panel:** attenuation hovers ~0% (a little negative due to small measurement noise).\n",
    "    \n",
    "- **With panel:** attenuation drops from ~43% (no wind) → ~27% (full wind).\n",
    "    \n",
    "\n",
    "...the panel is clearly effective at blocking transmission when wind is stronger."
   ]
  },
  {
   "cell_type": "code",
   "execution_count": null,
   "id": "e63939f2-aaf9-49f0-bb97-0845f6047393",
   "metadata": {},
   "outputs": [],
   "source": []
  },
  {
   "cell_type": "code",
   "execution_count": null,
   "id": "57820993-5011-458d-9621-cb8a1552ffb7",
   "metadata": {},
   "outputs": [],
   "source": []
  }
 ],
 "metadata": {
  "kernelspec": {
   "display_name": "Python 3 (Spyder)",
   "language": "python3",
   "name": "python3"
  },
  "language_info": {
   "codemirror_mode": {
    "name": "ipython",
    "version": 3
   },
   "file_extension": ".py",
   "mimetype": "text/x-python",
   "name": "python",
   "nbconvert_exporter": "python",
   "pygments_lexer": "ipython3",
   "version": "3.10.18"
  }
 },
 "nbformat": 4,
 "nbformat_minor": 5
}
