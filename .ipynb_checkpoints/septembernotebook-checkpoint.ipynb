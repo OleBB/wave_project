{
 "cells": [
  {
   "cell_type": "code",
   "execution_count": 2,
   "id": "ddfae8c0-cf4a-4706-8f4d-9619882c12fe",
   "metadata": {},
   "outputs": [],
   "source": [
    "import numpy as np"
   ]
  },
  {
   "cell_type": "markdown",
   "id": "8a76f1c1-6008-464f-a93f-53a4304422fe",
   "metadata": {},
   "source": [
    "# notat \n",
    "fra :15.sept. \n",
    "\n",
    "jon og yan hadde problemer med tanken på bølgelengde under 0.5 m. \n",
    "Med en lang geometri får man sett på de bølgene som relativt er kortere. \n",
    "\n",
    "vi leser av grafene. med og uten vind. \n",
    "bølgetall - k = w^2/g = f^2*(4 pi^2)/g = 6.8. \n",
    "- [ ] måle lengden på geometrien. sjekke om det er 2.62 meter. \n",
    "\n",
    "kL = 6.8*2.62 = 17.8=18.\n",
    "\n",
    "YanXu har Ct = a3,4/a2 = 0.8 (Ct er transmissjonskoeffisenten, som betyr at 80% av energien går i gjennom.)\n",
    "\n",
    "... hvis du sier at bølgen avtar pga tanken... så kan vi dele på 0.008 ... altså 0.008/0.8 ‎ = 0.01. \n",
    "\n",
    "[x] - Måle bølgen P2 og P3P4, uten geo, uten vind.  \n",
    "\n",
    "Fortsette med f 1.3hz. \n",
    "[ ] - finne ut hva vindhastigheten er. Spørre Atle/Jon om trykkmålern. \n",
    "Måle samme om igjen, mer nøyaktig. bruke millimeterskala. ta feks glidende snitt av 10 bølgehøyder. \n",
    "\n",
    "[ ] Lese YanXu sin rapport. \n",
    "[ ] sjekke nøye - er bølgeamplituden i P2 samme med og uten vind?\n",
    "\n",
    "kL .. det dimensjonsløse bølgetallet. \n"
   ]
  },
  {
   "cell_type": "markdown",
   "id": "8e26a205-1711-4c44-9388-f7a7518cb984",
   "metadata": {},
   "source": [
    "\n",
    "---\n",
    "                     \n"
   ]
  },
  {
   "cell_type": "markdown",
   "id": "80688367-39a1-4ea8-a53e-d452a5128a7a",
   "metadata": {},
   "source": [
    "## Bølgetall\n",
    "$K = \\frac{\\omega^2}{g} = \\frac{(f*2*\\pi)^2}{g}$"
   ]
  },
  {
   "cell_type": "code",
   "execution_count": 4,
   "id": "21260ef7-7826-4547-88f3-2a9dec71919b",
   "metadata": {},
   "outputs": [
    {
     "data": {
      "text/plain": [
       "6.808012831771842"
      ]
     },
     "execution_count": 4,
     "metadata": {},
     "output_type": "execute_result"
    }
   ],
   "source": [
    "(2*np.pi*1.3)**2/9.8"
   ]
  },
  {
   "cell_type": "markdown",
   "id": "5e731710-5308-49ff-85ce-d0634a1edbe2",
   "metadata": {},
   "source": []
  },
  {
   "cell_type": "markdown",
   "id": "47e7e5f9-2002-401d-b3df-2dbe19ac7af1",
   "metadata": {},
   "source": []
  },
  {
   "cell_type": "markdown",
   "id": "43172d16-7149-4014-a458-f98cf17e0f9f",
   "metadata": {},
   "source": []
  },
  {
   "cell_type": "markdown",
   "id": "9279da99-ad73-4ae7-8625-7d95e4417c53",
   "metadata": {},
   "source": []
  },
  {
   "cell_type": "markdown",
   "id": "d74d8117-31b4-41a1-bbd6-c8db8db7880a",
   "metadata": {},
   "source": []
  },
  {
   "cell_type": "markdown",
   "id": "326876c7-55b6-48e8-9728-a33e7d876166",
   "metadata": {},
   "source": []
  },
  {
   "cell_type": "markdown",
   "id": "940651a3-5a3c-4906-8e93-6ced5cf5dcaa",
   "metadata": {},
   "source": []
  },
  {
   "cell_type": "markdown",
   "id": "f7d39bb6-f2a4-441e-99ce-a17a4f3be052",
   "metadata": {},
   "source": []
  },
  {
   "cell_type": "markdown",
   "id": "0d07fed7-2a8b-4cd3-9f55-6f5b2c557a2e",
   "metadata": {},
   "source": []
  },
  {
   "cell_type": "markdown",
   "id": "755f27dc-dec2-4c58-a688-209034f0d4c0",
   "metadata": {},
   "source": []
  },
  {
   "cell_type": "markdown",
   "id": "ccbabb01-257c-41a9-85f5-5c8e8d1ec242",
   "metadata": {},
   "source": []
  },
  {
   "cell_type": "markdown",
   "id": "81257d05-c72e-4e04-91b4-49b456da4a09",
   "metadata": {},
   "source": []
  }
 ],
 "metadata": {
  "kernelspec": {
   "display_name": "Python 3 (Spyder)",
   "language": "python3",
   "name": "python3"
  },
  "language_info": {
   "codemirror_mode": {
    "name": "ipython",
    "version": 3
   },
   "file_extension": ".py",
   "mimetype": "text/x-python",
   "name": "python",
   "nbconvert_exporter": "python",
   "pygments_lexer": "ipython3",
   "version": "3.10.18"
  }
 },
 "nbformat": 4,
 "nbformat_minor": 5
}
